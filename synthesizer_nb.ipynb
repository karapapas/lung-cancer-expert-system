{
 "cells": [
  {
   "cell_type": "code",
   "execution_count": 1,
   "id": "2ced6767",
   "metadata": {},
   "outputs": [],
   "source": [
    "from synthesizer import *\n",
    "synth = Synthesizer()"
   ]
  },
  {
   "cell_type": "code",
   "execution_count": 2,
   "id": "9fc26c9b",
   "metadata": {},
   "outputs": [],
   "source": [
    "# create the data\n",
    "subjects = synth.create_subjects(1000)\n"
   ]
  },
  {
   "cell_type": "code",
   "execution_count": 3,
   "id": "0476f879",
   "metadata": {},
   "outputs": [],
   "source": [
    "filename = 'subjects1000.json'"
   ]
  },
  {
   "cell_type": "code",
   "execution_count": 4,
   "id": "1432dafc",
   "metadata": {},
   "outputs": [],
   "source": [
    "# save the data\n",
    "synth.subjects_to_json(subjects, filename)\n"
   ]
  },
  {
   "cell_type": "code",
   "execution_count": 5,
   "id": "38218bd4",
   "metadata": {},
   "outputs": [
    {
     "name": "stdout",
     "output_type": "stream",
     "text": [
      "Total subjects:  1000\n"
     ]
    }
   ],
   "source": [
    "# load the data\n",
    "subjects = synth.load_subjects_from_json(filename)\n",
    "print('Total subjects: ', len(subjects))\n"
   ]
  }
 ],
 "metadata": {
  "kernelspec": {
   "display_name": "Python 3 (ipykernel)",
   "language": "python",
   "name": "python3"
  },
  "language_info": {
   "codemirror_mode": {
    "name": "ipython",
    "version": 3
   },
   "file_extension": ".py",
   "mimetype": "text/x-python",
   "name": "python",
   "nbconvert_exporter": "python",
   "pygments_lexer": "ipython3",
   "version": "3.8.17"
  }
 },
 "nbformat": 4,
 "nbformat_minor": 5
}
