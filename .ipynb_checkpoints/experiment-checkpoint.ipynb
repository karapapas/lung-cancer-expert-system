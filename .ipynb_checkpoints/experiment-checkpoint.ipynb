{
 "cells": [
  {
   "cell_type": "code",
   "execution_count": 1,
   "id": "de972622",
   "metadata": {},
   "outputs": [
    {
     "name": "stdout",
     "output_type": "stream",
     "text": [
      "Python 3.8.17\n"
     ]
    }
   ],
   "source": [
    "!python --version\n",
    "# use python 3.8.17"
   ]
  },
  {
   "cell_type": "code",
   "execution_count": 2,
   "id": "0e56175e",
   "metadata": {},
   "outputs": [
    {
     "name": "stdout",
     "output_type": "stream",
     "text": [
      "Defaulting to user installation because normal site-packages is not writeable\n",
      "Requirement already satisfied: experta in c:\\programdata\\anaconda3\\envs\\dss-env-01\\lib\\site-packages (1.9.4)\n",
      "Requirement already satisfied: frozendict==1.2 in c:\\programdata\\anaconda3\\envs\\dss-env-01\\lib\\site-packages (from experta) (1.2)\n",
      "Requirement already satisfied: schema==0.6.7 in c:\\programdata\\anaconda3\\envs\\dss-env-01\\lib\\site-packages (from experta) (0.6.7)\n"
     ]
    }
   ],
   "source": [
    "!pip install experta\n",
    "# in case of this error AttributeError: module 'collections' has no attribute 'Mapping'\n",
    "# just remember to switch to an environment with Python 3.8.17 version\n",
    "# and relaunch Jupyter Notebook, simply restarting the Kernel won't work"
   ]
  },
  {
   "cell_type": "code",
   "execution_count": 3,
   "id": "ecaabb6f",
   "metadata": {},
   "outputs": [],
   "source": [
    "from synthesizer import *\n",
    "from doctor import Doctor\n"
   ]
  },
  {
   "cell_type": "code",
   "execution_count": 4,
   "id": "9e285dd6",
   "metadata": {},
   "outputs": [],
   "source": [
    "synth = Synthesizer()\n",
    "doc = Doctor()\n"
   ]
  },
  {
   "cell_type": "code",
   "execution_count": 5,
   "id": "76aec903",
   "metadata": {},
   "outputs": [
    {
     "name": "stdout",
     "output_type": "stream",
     "text": [
      "Total subjects:  100\n",
      "Estimating for subject:  1\n",
      "Suspected for cancer None\n"
     ]
    },
    {
     "ename": "TypeError",
     "evalue": "ready_to_determine() takes 1 positional argument but 2 were given",
     "output_type": "error",
     "traceback": [
      "\u001b[1;31m---------------------------------------------------------------------------\u001b[0m",
      "\u001b[1;31mTypeError\u001b[0m                                 Traceback (most recent call last)",
      "Cell \u001b[1;32mIn[5], line 8\u001b[0m\n\u001b[0;32m      6\u001b[0m \u001b[38;5;28;01mfor\u001b[39;00m subject \u001b[38;5;129;01min\u001b[39;00m subjects:\n\u001b[0;32m      7\u001b[0m     \u001b[38;5;28mprint\u001b[39m(\u001b[38;5;124m'\u001b[39m\u001b[38;5;124mEstimating for subject: \u001b[39m\u001b[38;5;124m'\u001b[39m, subject\u001b[38;5;241m.\u001b[39mid)\n\u001b[1;32m----> 8\u001b[0m     \u001b[43mdoc\u001b[49m\u001b[38;5;241;43m.\u001b[39;49m\u001b[43mestimate\u001b[49m\u001b[43m(\u001b[49m\u001b[43msubject\u001b[49m\u001b[43m)\u001b[49m\n",
      "File \u001b[1;32m~\\bme10\\doctor.py:24\u001b[0m, in \u001b[0;36mDoctor.estimate\u001b[1;34m(self, subject)\u001b[0m\n\u001b[0;32m     22\u001b[0m \u001b[38;5;28;01mif\u001b[39;00m subject\u001b[38;5;241m.\u001b[39mcancer_suspected \u001b[38;5;241m==\u001b[39m \u001b[38;5;28;01mNone\u001b[39;00m:\n\u001b[0;32m     23\u001b[0m     \u001b[38;5;28mprint\u001b[39m(\u001b[38;5;124m'\u001b[39m\u001b[38;5;124mSuspected for cancer None\u001b[39m\u001b[38;5;124m'\u001b[39m)\n\u001b[1;32m---> 24\u001b[0m     \u001b[38;5;28;01mif\u001b[39;00m \u001b[43mutils\u001b[49m\u001b[38;5;241;43m.\u001b[39;49m\u001b[43mready_to_determine\u001b[49m\u001b[43m(\u001b[49m\u001b[43msubject\u001b[49m\u001b[38;5;241;43m.\u001b[39;49m\u001b[43msuspicion_requirements\u001b[49m\u001b[43m)\u001b[49m \u001b[38;5;241m==\u001b[39m \u001b[38;5;28;01mTrue\u001b[39;00m:\n\u001b[0;32m     25\u001b[0m         subject\u001b[38;5;241m.\u001b[39mcancer_suspected \u001b[38;5;241m=\u001b[39m utils\u001b[38;5;241m.\u001b[39mdetermine(suspicion_engine, SUSPICION_FACTS, subject\u001b[38;5;241m.\u001b[39msuspicion_requirements)\n\u001b[0;32m     26\u001b[0m     \u001b[38;5;28;01melse\u001b[39;00m:\n",
      "\u001b[1;31mTypeError\u001b[0m: ready_to_determine() takes 1 positional argument but 2 were given"
     ]
    }
   ],
   "source": [
    "# Loading the data:\n",
    "subjects = synth.load_subjects_from_json('subjects.json')\n",
    "print('Total subjects: ', len(subjects))\n",
    "\n",
    "# for each subject runfor key, value in subject.items():\n",
    "for subject in subjects:\n",
    "    print('Estimating for subject: ', subject.id)\n",
    "    doc.estimate(subject)\n",
    "    "
   ]
  }
 ],
 "metadata": {
  "kernelspec": {
   "display_name": "Python 3 (ipykernel)",
   "language": "python",
   "name": "python3"
  },
  "language_info": {
   "codemirror_mode": {
    "name": "ipython",
    "version": 3
   },
   "file_extension": ".py",
   "mimetype": "text/x-python",
   "name": "python",
   "nbconvert_exporter": "python",
   "pygments_lexer": "ipython3",
   "version": "3.8.17"
  }
 },
 "nbformat": 4,
 "nbformat_minor": 5
}
