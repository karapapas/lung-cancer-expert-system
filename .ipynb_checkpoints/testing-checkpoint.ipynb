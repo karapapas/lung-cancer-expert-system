{
 "cells": [
  {
   "cell_type": "code",
   "execution_count": 1,
   "id": "fa17e90d",
   "metadata": {},
   "outputs": [
    {
     "name": "stdout",
     "output_type": "stream",
     "text": [
      "Defaulting to user installation because normal site-packages is not writeable\n",
      "Requirement already satisfied: matplotlib in c:\\users\\karap\\appdata\\roaming\\python\\python38\\site-packages (3.7.2)\n",
      "Requirement already satisfied: contourpy>=1.0.1 in c:\\users\\karap\\appdata\\roaming\\python\\python38\\site-packages (from matplotlib) (1.1.0)\n",
      "Requirement already satisfied: cycler>=0.10 in c:\\users\\karap\\appdata\\roaming\\python\\python38\\site-packages (from matplotlib) (0.11.0)\n",
      "Requirement already satisfied: fonttools>=4.22.0 in c:\\users\\karap\\appdata\\roaming\\python\\python38\\site-packages (from matplotlib) (4.40.0)\n",
      "Requirement already satisfied: kiwisolver>=1.0.1 in c:\\users\\karap\\appdata\\roaming\\python\\python38\\site-packages (from matplotlib) (1.4.4)\n",
      "Requirement already satisfied: numpy>=1.20 in c:\\users\\karap\\appdata\\roaming\\python\\python38\\site-packages (from matplotlib) (1.24.4)\n",
      "Requirement already satisfied: packaging>=20.0 in c:\\programdata\\anaconda3\\envs\\dss-env-01\\lib\\site-packages (from matplotlib) (23.0)\n",
      "Requirement already satisfied: pillow>=6.2.0 in c:\\users\\karap\\appdata\\roaming\\python\\python38\\site-packages (from matplotlib) (9.5.0)\n",
      "Requirement already satisfied: pyparsing<3.1,>=2.3.1 in c:\\users\\karap\\appdata\\roaming\\python\\python38\\site-packages (from matplotlib) (3.0.9)\n",
      "Requirement already satisfied: python-dateutil>=2.7 in c:\\programdata\\anaconda3\\envs\\dss-env-01\\lib\\site-packages (from matplotlib) (2.8.2)\n",
      "Requirement already satisfied: importlib-resources>=3.2.0 in c:\\programdata\\anaconda3\\envs\\dss-env-01\\lib\\site-packages (from matplotlib) (5.2.0)\n",
      "Requirement already satisfied: zipp>=3.1.0 in c:\\programdata\\anaconda3\\envs\\dss-env-01\\lib\\site-packages (from importlib-resources>=3.2.0->matplotlib) (3.11.0)\n",
      "Requirement already satisfied: six>=1.5 in c:\\programdata\\anaconda3\\envs\\dss-env-01\\lib\\site-packages (from python-dateutil>=2.7->matplotlib) (1.16.0)\n"
     ]
    }
   ],
   "source": [
    "!pip install matplotlib"
   ]
  },
  {
   "cell_type": "code",
   "execution_count": 2,
   "id": "c9ed1dcb",
   "metadata": {},
   "outputs": [],
   "source": [
    "import matplotlib.pyplot as plt\n",
    "from utilities import Utils\n",
    "from rules import *"
   ]
  },
  {
   "cell_type": "code",
   "execution_count": 3,
   "id": "c5947912",
   "metadata": {},
   "outputs": [
    {
     "data": {
      "image/png": "[encoded data removed]",
      "text/plain": [
       "<Figure size 640x480 with 1 Axes>"
      ]
     },
     "metadata": {},
     "output_type": "display_data"
    }
   ],
   "source": [
    "# Test the generator\n",
    "\n",
    "u = Utils()\n",
    "random_numbers = [u.gaussian(30, 300) for _ in range(1000)]\n",
    "plt.hist(random_numbers, bins=30, alpha=0.5, color='g', edgecolor='black')\n",
    "plt.title('Histogram of 1000 random numbers from a Gaussian distribution')\n",
    "plt.xlabel('Value')\n",
    "plt.ylabel('Frequency')\n",
    "plt.show()\n"
   ]
  },
  {
   "cell_type": "code",
   "execution_count": 4,
   "id": "08bd696f",
   "metadata": {},
   "outputs": [],
   "source": [
    "# Initialize the global variables\n",
    "\n",
    "successful_tests = 0\n"
   ]
  },
  {
   "cell_type": "code",
   "execution_count": 5,
   "id": "16b6958a",
   "metadata": {},
   "outputs": [],
   "source": [
    "# Initialize the knowledge engines\n",
    "\n",
    "suspicion_engine = SuspicionInvestigation()\n",
    "tumor_engine = TumorStage()\n",
    "nodes_engine = NodesStage()\n",
    "metastasis_engine = MetastasisStage()\n",
    "cancer_engine = CancerStage()\n"
   ]
  },
  {
   "cell_type": "code",
   "execution_count": 6,
   "id": "406b4348",
   "metadata": {},
   "outputs": [],
   "source": [
    "# Define testing methods\n",
    "\n",
    "def test_case(engine, fact, expected, fact_type):\n",
    "    \"\"\"\n",
    "    Test a single case for a given engine.\n",
    "    \n",
    "    Arguments:\n",
    "        engine: KnowledgeEngine instance to test.\n",
    "        fact: Fact instance to assert.\n",
    "        expected: Expected output from the engine.\n",
    "        fact_type: The type of fact.\n",
    "    \"\"\"\n",
    "    # Initialize and reset the engine.\n",
    "    engine.reset()\n",
    "    # Assert the fact to the engine.\n",
    "    engine.declare(fact_type(**fact))\n",
    "    # Run the engine.\n",
    "    engine.run()\n",
    "    \n",
    "    # Compare the expected and actual outputs.\n",
    "    try:\n",
    "        result = engine.get_result()\n",
    "        assert expected == result, f\"Expected: {expected}, but got: {result}\"\n",
    "        global successful_tests\n",
    "        successful_tests += 1  # Increment the counter if the assertion passed\n",
    "    except AssertionError as e:\n",
    "        print(f\"Test failed: {e}\")\n",
    "\n",
    "def run_tests(engine, cases, fact_type):\n",
    "    \"\"\"\n",
    "    Run all test cases for a given engine.\n",
    "    \n",
    "    Arguments:\n",
    "        engine: KnowledgeEngine instance to test.\n",
    "        cases: List of cases to test. Each case is a tuple of a fact and an expected output.\n",
    "        fact_type: The type of fact.\n",
    "    \"\"\"\n",
    "    for fact, expected in cases:\n",
    "        test_case(engine, fact, expected, fact_type)\n"
   ]
  },
  {
   "cell_type": "code",
   "execution_count": 7,
   "id": "dc1fd33e",
   "metadata": {},
   "outputs": [],
   "source": [
    "# Test cases for the suspicion engine.\n",
    "suspicion_cases = [\n",
    "    ({'smoking':False, 'asbestos':False, 'radio':False, \n",
    "      'history':False, 'tsymptoms':False, 'nsymptoms':False, 'msymptoms':False}, 'False'),\n",
    "    ({'smoking':True, 'asbestos':False, 'radio':False, \n",
    "      'history':False, 'tsymptoms':False, 'nsymptoms':False, 'msymptoms':False}, 'True'),\n",
    "    ({'smoking':False, 'asbestos':True, 'radio':False, \n",
    "      'history':False, 'tsymptoms':False, 'nsymptoms':False, 'msymptoms':False}, 'True')\n",
    "]\n",
    "\n",
    "# Test cases for the tumor engine.\n",
    "tumor_cases = [\n",
    "    ({\"mass\": False, \"diameter\": 0.0, \"bronchoscopesis\": False, \n",
    "      \"cytologic\": False, \"nearby_organs\": False, \"fna_and_pet_scan\": False}, \"T0\"),\n",
    "    ({\"mass\": False, \"diameter\": 0.0, \"bronchoscopesis\": False, \n",
    "      \"cytologic\": True, \"nearby_organs\": False, \"fna_and_pet_scan\": False}, \"Tx\"),\n",
    "    ({\"mass\": True, \"diameter\": 1.8, \"bronchoscopesis\": False, \n",
    "      \"cytologic\": True, \"nearby_organs\": False, \"fna_and_pet_scan\": True}, \"T1a\"),\n",
    "    ({\"mass\": True, \"diameter\": 2.5, \"bronchoscopesis\": False, \n",
    "      \"cytologic\": True, \"nearby_organs\": False, \"fna_and_pet_scan\": True}, \"T1b\"),\n",
    "    ({\"mass\": True, \"diameter\": 3.1, \"bronchoscopesis\": False, \n",
    "      \"cytologic\": True, \"nearby_organs\": False, \"fna_and_pet_scan\": True}, \"T2a\"),\n",
    "    ({\"mass\": True, \"diameter\": 5.3, \"bronchoscopesis\": False, \n",
    "      \"cytologic\": True, \"nearby_organs\": False, \"fna_and_pet_scan\": True}, \"T2b\"),   \n",
    "    ({\"mass\": True, \"diameter\": 7.8, \"bronchoscopesis\": False, \n",
    "      \"cytologic\": True, \"nearby_organs\": False, \"fna_and_pet_scan\": False}, \"T3\"),\n",
    "    ({\"mass\": True, \"diameter\": 4.1, \"bronchoscopesis\": False, \n",
    "      \"cytologic\": False, \"nearby_organs\": True, \"fna_and_pet_scan\": False}, \"T4\"),   \n",
    "    ({'mass': True, 'diameter': 4.73, 'bronchoscopesis': False, \n",
    "      'cytologic': False, 'nearby_organs': True, 'fna_and_pet_scan': True}, \"T4\")\n",
    "]\n",
    "\n",
    "# Test cases for the nodes engine.\n",
    "nodes_cases = [\n",
    "    ({\"lymph_nodes_size\": 0.4, \"peribronchial_metastasis\": False, \n",
    "      \"mediastinal_metastasis\": False, \"fna_positive\": False}, \"N0\"),\n",
    "    ({\"lymph_nodes_size\": 1.0, \"peribronchial_metastasis\": False, \n",
    "      \"mediastinal_metastasis\": False, \"fna_positive\": False}, \"Nx\"),\n",
    "    ({\"lymph_nodes_size\": 1.6, \"peribronchial_metastasis\": True, \n",
    "      \"mediastinal_metastasis\": False, \"fna_positive\": False}, \"N1\"),\n",
    "    ({\"lymph_nodes_size\": 1.7, \"peribronchial_metastasis\": False, \n",
    "      \"mediastinal_metastasis\": True, \"fna_positive\": False}, \"N2\"),\n",
    "    ({\"lymph_nodes_size\": 0.7, \"peribronchial_metastasis\": False, \n",
    "      \"mediastinal_metastasis\": False, \"fna_positive\": True}, \"N3\"),\n",
    "]\n",
    "\n",
    "# Test cases for the metastasis engine.\n",
    "metastasis_cases = [\n",
    "    ({\"separate_tumor_nodules\": False, \"distant_metastasis\": False}, \"M0\"),\n",
    "    ({\"separate_tumor_nodules\": True, \"distant_metastasis\": False}, \"M1\"),\n",
    "    ({\"separate_tumor_nodules\": False, \"distant_metastasis\": True}, \"M2\"),\n",
    "]\n",
    "\n",
    "# Test cases for the cancer engine.\n",
    "cancer_cases = [\n",
    "    ({\"T\": \"Tx\", \"N\": \"N0\", \"M\": \"M0\"}, \"Stage Undetermined\"),\n",
    "    ({\"T\": \"T1a\", \"N\": \"Nx\", \"M\": \"M0\"}, \"Stage Undetermined\"),\n",
    "    ({\"T\": \"T1a\", \"N\": \"N0\", \"M\": \"Mx\"}, \"Stage Undetermined\"),\n",
    "    ({\"T\": \"T1a\", \"N\": \"N0\", \"M\": \"M0\"}, \"Stage IA2\"),\n",
    "    ({\"T\": \"T1b\", \"N\": \"N0\", \"M\": \"M0\"}, \"Stage IA3\"),\n",
    "    ({\"T\": \"T1c\", \"N\": \"N0\", \"M\": \"M0\"}, \"Stage IB\"),\n",
    "    ({\"T\": \"T2a\", \"N\": \"N0\", \"M\": \"M0\"}, \"Stage IB\"),\n",
    "    ({\"T\": \"T2b\", \"N\": \"N0\", \"M\": \"M0\"}, \"Stage IIA\"),\n",
    "    ({\"T\": \"T3\", \"N\": \"N0\", \"M\": \"M0\"}, \"Stage IIA\"),\n",
    "    ({\"T\": \"T1\", \"N\": \"N1\", \"M\": \"M0\"}, \"Stage IIB\"),\n",
    "    ({\"T\": \"T2\", \"N\": \"N1\", \"M\": \"M0\"}, \"Stage IIB\"),\n",
    "    ({\"T\": \"T1\", \"N\": \"N2\", \"M\": \"M0\"}, \"Stage IIIA\"),\n",
    "    ({\"T\": \"T2\", \"N\": \"N2\", \"M\": \"M0\"}, \"Stage IIIA\"),\n",
    "    ({\"T\": \"T3\", \"N\": \"N1\", \"M\": \"M0\"}, \"Stage IIIA\"),\n",
    "    ({\"T\": \"T3\", \"N\": \"N2\", \"M\": \"M0\"}, \"Stage IIIA\"),\n",
    "    ({\"T\": \"T4\", \"N\": \"N1\", \"M\": \"M0\"}, \"Stage IIIA\"),\n",
    "    ({\"T\": \"T4\", \"N\": \"N2\", \"M\": \"M0\"}, \"Stage IIIA\"),\n",
    "    ({\"T\": \"T1\", \"N\": \"N3\", \"M\": \"M0\"}, \"Stage IIIB\"),\n",
    "    ({\"T\": \"T2\", \"N\": \"N3\", \"M\": \"M0\"}, \"Stage IIIB\"),\n",
    "    ({\"T\": \"T3\", \"N\": \"N3\", \"M\": \"M0\"}, \"Stage IIIB\"),\n",
    "    ({\"T\": \"T1\", \"N\": \"N1\", \"M\": \"M1a\"}, \"Stage IIIC\"),\n",
    "    ({\"T\": \"T1\", \"N\": \"N2\", \"M\": \"M1a\"}, \"Stage IIIC\"),\n",
    "    ({\"T\": \"T4\", \"N\": \"N3\", \"M\": \"M1a\"}, \"Stage IIIC\"),\n",
    "    ({\"T\": \"T1\", \"N\": \"N2\", \"M\": \"M1b\"}, \"Stage IV\"),\n",
    "    ({\"T\": \"T2\", \"N\": \"N2\", \"M\": \"M1b\"}, \"Stage IV\"),\n",
    "    ({\"T\": \"T3\", \"N\": \"N2\", \"M\": \"M1b\"}, \"Stage IV\"),\n",
    "    ({\"T\": \"T3\", \"N\": \"N3\", \"M\": \"M1b\"}, \"Stage IV\"),\n",
    "    ({\"T\": \"T4\", \"N\": \"N3\", \"M\": \"M1b\"}, \"Stage IV\"),\n",
    "    ({\"T\": \"T1\", \"N\": \"N2\", \"M\": \"M1c\"}, \"Stage IV\"),\n",
    "    ({\"T\": \"T2\", \"N\": \"N2\", \"M\": \"M1c\"}, \"Stage IV\"),\n",
    "    ({\"T\": \"T3\", \"N\": \"N2\", \"M\": \"M1c\"}, \"Stage IV\"),\n",
    "    ({\"T\": \"T3\", \"N\": \"N3\", \"M\": \"M1c\"}, \"Stage IV\"),\n",
    "    ({\"T\": \"T4\", \"N\": \"N3\", \"M\": \"M1c\"}, \"Stage IV\")\n",
    "]\n"
   ]
  },
  {
   "cell_type": "code",
   "execution_count": 8,
   "id": "84c9d533",
   "metadata": {},
   "outputs": [
    {
     "name": "stdout",
     "output_type": "stream",
     "text": [
      "Test failed: Expected: Stage Undetermined, but got: None\n",
      "Total successful test cases:  50\n"
     ]
    }
   ],
   "source": [
    "# Run the tests\n",
    "\n",
    "run_tests(suspicion_engine, suspicion_cases, SUSPICION_FACTS)\n",
    "run_tests(tumor_engine, tumor_cases, TUMOR_FACTS)\n",
    "run_tests(nodes_engine, nodes_cases, NODES_FACTS)\n",
    "run_tests(metastasis_engine, metastasis_cases, METASTASIS_FACTS)\n",
    "run_tests(cancer_engine, cancer_cases, TNM_FACTS)\n",
    "\n",
    "print('Total successful test cases: ', successful_tests)\n"
   ]
  },
  {
   "cell_type": "code",
   "execution_count": null,
   "id": "b49f54da",
   "metadata": {},
   "outputs": [],
   "source": []
  }
 ],
 "metadata": {
  "kernelspec": {
   "display_name": "Python 3 (ipykernel)",
   "language": "python",
   "name": "python3"
  },
  "language_info": {
   "codemirror_mode": {
    "name": "ipython",
    "version": 3
   },
   "file_extension": ".py",
   "mimetype": "text/x-python",
   "name": "python",
   "nbconvert_exporter": "python",
   "pygments_lexer": "ipython3",
   "version": "3.8.17"
  }
 },
 "nbformat": 4,
 "nbformat_minor": 5
}
